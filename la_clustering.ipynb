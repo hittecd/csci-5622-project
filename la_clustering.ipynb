{
 "cells": [
  {
   "cell_type": "code",
   "execution_count": 24,
   "metadata": {},
   "outputs": [],
   "source": [
    "%matplotlib inline\n",
    "import numpy as np\n",
    "# import pysal as ps\n",
    "# import random as rdm\n",
    "# import geopandas as gpd\n",
    "import matplotlib.pyplot as plt\n",
    "# import os\n",
    "# import json\n",
    "# import geojson as gj\n",
    "# import folium as fl\n",
    "# from pysal.contrib.viz import folium_mapping as fm\n",
    "# from pylab import rcParams\n",
    "# rcParams['figure.figsize'] = 20,20\n",
    "\n",
    "from database_manager import DatabaseManager\n",
    "from sklearn.cluster import KMeans\n",
    "from sklearn.cluster import SpectralClustering\n",
    "from sklearn.mixture import GaussianMixture\n",
    "from sklearn.decomposition import PCA\n",
    "from sklearn.preprocessing import scale\n",
    "from sklearn.metrics import silhouette_samples, silhouette_score\n",
    "from scipy.spatial.distance import cdist\n",
    "from sklearn.preprocessing import scale"
   ]
  },
  {
   "cell_type": "code",
   "execution_count": 75,
   "metadata": {},
   "outputs": [],
   "source": [
    "NUM_ZILLOW_ZIPS = 297\n",
    "NUM_DEMOGRAPHIC_ZIPS = 404\n",
    "\n",
    "############################################\n",
    "# CHANGE THIS WHEN YOU ADD/REMOVE FEATURES #\n",
    "############################################\n",
    "NUM_FEATURES_DEM = 22\n",
    "NUM_FEATURES_ZILLOW = 5\n",
    "\n",
    "def create_connection():\n",
    "    conn = DatabaseManager.get_connection()\n",
    "    cursor = conn.cursor(buffered=True)\n",
    "    return conn, cursor\n",
    "\n",
    "def close_connection(conn, cursor):\n",
    "    cursor.close()\n",
    "    conn.close()\n",
    "    \n",
    "## Pulls in the demographic features \n",
    "def get_demographics(conn, cursor):\n",
    "    feature_dict = {}\n",
    "    cursor.execute(\"SELECT zip_id, personal_vehicle, carpool, public_transportation, taxi, motorcycle, walking, bicycle FROM transportation_method, zip WHERE transportation_method.zip_id=zip.id\")\n",
    "    rows = cursor.fetchall()\n",
    "    list_ind = 0\n",
    "    \n",
    "    for row in rows:\n",
    "        for ind, val in enumerate(row):\n",
    "            if row[0] not in feature_dict:\n",
    "                feature_dict[row[0]] = np.zeros(NUM_FEATURES_DEM)\n",
    "            if ind > 0:\n",
    "                feature_dict[row[0]][ind-1] = val\n",
    "        \n",
    "    list_ind = ind\n",
    "    \n",
    "    cursor.execute(\"SELECT zip_id, recipient_count FROM food_stamps, zip WHERE food_stamps.zip_id=zip.id\")\n",
    "    rows = cursor.fetchall()\n",
    "    \n",
    "    for row in rows:\n",
    "        for ind, val in enumerate(row):\n",
    "            if ind > 0:\n",
    "                feature_dict[row[0]][ind+list_ind-1] = val\n",
    "          \n",
    "    list_ind = list_ind + ind\n",
    "        \n",
    "    cursor.execute(\"SELECT zip_id, median_income FROM median_income, zip WHERE median_income.zip_id=zip.id;\")\n",
    "    rows = cursor.fetchall()    \n",
    "    \n",
    "    for row in rows:\n",
    "        for ind, val in enumerate(row):\n",
    "            if ind > 0:\n",
    "                feature_dict[row[0]][ind+list_ind-1] = val\n",
    "          \n",
    "    list_ind = list_ind + ind\n",
    "        \n",
    "    cursor.execute(\"SELECT zip_id, population FROM total_population, zip WHERE total_population.zip_id=zip.id;\")\n",
    "    rows = cursor.fetchall()    \n",
    "    \n",
    "    for row in rows:\n",
    "        for ind, val in enumerate(row):\n",
    "            if ind > 0:\n",
    "                feature_dict[row[0]][ind+list_ind-1] = val\n",
    "          \n",
    "    list_ind = list_ind + ind\n",
    "    \n",
    "    cursor.execute(\"SELECT zip_id, family_households, nonfamily_households FROM relationships, zip WHERE relationships.zip_id=zip.id;\")\n",
    "    rows = cursor.fetchall()    \n",
    "    \n",
    "    for row in rows:\n",
    "        for ind, val in enumerate(row):\n",
    "            if ind > 0:\n",
    "                feature_dict[row[0]][ind+list_ind-1] = val\n",
    "          \n",
    "    list_ind = list_ind + ind\n",
    "    \n",
    "    cursor.execute(\"SELECT zip_id, less_than_high_school, bachelors, masters FROM education, zip WHERE education.zip_id=zip.id;\")\n",
    "    rows = cursor.fetchall()    \n",
    "    \n",
    "    for row in rows:\n",
    "        for ind, val in enumerate(row):\n",
    "            if ind > 0:\n",
    "                feature_dict[row[0]][ind+list_ind-1] = val\n",
    "          \n",
    "    list_ind = list_ind + ind\n",
    "    \n",
    "    cursor.execute(\"SELECT zip_id, male, female, percent_white, percent_black, percent_asian FROM age_race_sex, zip WHERE age_race_sex.zip_id=zip.id;\")\n",
    "    rows = cursor.fetchall()    \n",
    "    \n",
    "    for row in rows:\n",
    "        for ind, val in enumerate(row):\n",
    "            if ind > 0:\n",
    "                feature_dict[row[0]][ind+list_ind-1] = val\n",
    "          \n",
    "    list_ind = list_ind + ind\n",
    "    \n",
    "    cursor.execute(\"SELECT zip_id, english_only, non_english FROM language_spoken, zip WHERE language_spoken.zip_id=zip.id;\")\n",
    "    rows = cursor.fetchall()    \n",
    "    \n",
    "    for row in rows:\n",
    "        for ind, val in enumerate(row):\n",
    "            if ind > 0:\n",
    "                feature_dict[row[0]][ind+list_ind-1] = val\n",
    "          \n",
    "    list_ind = list_ind + ind\n",
    "    \n",
    "    return feature_dict\n",
    "\n",
    "\n",
    "# Pulls in Zillow data\n",
    "def get_zillow_data(conn, cursor):\n",
    "    feature_dict = {}\n",
    "    cursor.execute(\"SELECT zip_code, median_listing_price, median_listing_price_per_sqft, inventory, percent_increase, percent_decrease FROM la_zillow_data;\")\n",
    "    rows = cursor.fetchall()\n",
    "    list_ind = 0\n",
    "    \n",
    "    for row in rows:\n",
    "        for ind, val in enumerate(row):\n",
    "            if row[0] not in feature_dict:\n",
    "                feature_dict[row[0]] = np.zeros(NUM_FEATURES_ZILLOW)\n",
    "            if ind > 0:\n",
    "                feature_dict[row[0]][ind-1] = val\n",
    "                \n",
    "    return feature_dict"
   ]
  },
  {
   "cell_type": "markdown",
   "metadata": {},
   "source": [
    "Import data\n",
    "\n",
    "Import ACS data from csv, set geoid as the index, and drop non-included variables"
   ]
  },
  {
   "cell_type": "code",
   "execution_count": null,
   "metadata": {},
   "outputs": [],
   "source": [
    "la_acs = pd.csv(la_acs.csv)\n",
    "la_acs = la_acs.rename(index=str, columns={'GEO.id':'geoid', acs_est_name:'est', acs_moe_name:'moe'})\n",
    "la_acs.set_index(la_acs.geoid, inplace=True)\n",
    "la_acs = la_acs.drop('geoid', axis=1)"
   ]
  },
  {
   "cell_type": "code",
   "execution_count": null,
   "metadata": {},
   "outputs": [],
   "source": [
    "la_geog = gpd.read_file('CAMS_ZIPCODE_STREET_SPECIFIC/CAMS_ZIPCODE_STREET_SPECIFIC.shp')\n",
    "la_geog['constant'] = 1\n",
    "p = la_geog.plot(color='green', linewidth=0.5, edgecolor='white')\n",
    "p.axis('off')\n",
    "p.plot()"
   ]
  },
  {
   "cell_type": "code",
   "execution_count": 76,
   "metadata": {},
   "outputs": [
    {
     "name": "stdout",
     "output_type": "stream",
     "text": [
      "[ 181.     0.   181.     0.     4.     5.     1.   217.   217.   417.    95.\n",
      "   25.    68.    67.    80.   220.   197.    96.9    1.     1.   392.    15. ]\n",
      "[  4.12125000e+05   4.12125000e+05   7.96667000e+01   8.16991670e+01\n",
      "   1.37616670e+01]\n"
     ]
    }
   ],
   "source": [
    "## Create a connection to the db\n",
    "conn, cursor = create_connection()\n",
    "\n",
    "## Pull in the demographic features\n",
    "feature_dict_dem = get_demographics(conn, cursor)\n",
    "\n",
    "## Pull in the zillow data\n",
    "feature_dict_zillow = get_zillow_data(conn, cursor)\n",
    "\n",
    "## Feature_dict should be {zip_id: [list of x features]},\n",
    "## so let's print out an example to make sure\n",
    "print(feature_dict_dem[19607])\n",
    "print(feature_dict_zillow[\"90802\"])"
   ]
  },
  {
   "cell_type": "code",
   "execution_count": 77,
   "metadata": {},
   "outputs": [],
   "source": [
    "## Create a readable feature-vector from the values using np\n",
    "X_dem = np.zeros((NUM_DEMOGRAPHIC_ZIPS, NUM_FEATURES_DEM))\n",
    "for ind, (k,v) in enumerate(feature_dict_dem.items()):\n",
    "    X_dem[ind] = v\n",
    "\n",
    "X_zillow = np.zeros((NUM_ZILLOW_ZIPS, NUM_FEATURES_ZILLOW))\n",
    "for ind, (k,v) in enumerate(feature_dict_zillow.items()):\n",
    "    X_zillow[ind] = v\n",
    "\n",
    "scale(X_zillow)\n",
    "close_connection(conn, cursor)"
   ]
  },
  {
   "cell_type": "code",
   "execution_count": 12,
   "metadata": {},
   "outputs": [
    {
     "data": {
      "text/plain": [
       "Text(0.5,1,'Finding the AIC and BIC for Demographic Data')"
      ]
     },
     "execution_count": 12,
     "metadata": {},
     "output_type": "execute_result"
    },
    {
     "data": {
      "image/png": "[encoded data removed]",
      "text/plain": [
       "<matplotlib.figure.Figure at 0x1a13f3c898>"
      ]
     },
     "metadata": {},
     "output_type": "display_data"
    }
   ],
   "source": [
    "k_vals = np.arange(3, 20)\n",
    "models = [GaussianMixture(k, random_state = 1234).fit(X_dem) for k in k_vals]\n",
    "\n",
    "plt.plot(k_vals, [m.bic(X_dem) for m in models], label = 'BIC')\n",
    "plt.plot(k_vals, [m.aic(X_dem) for m in models], label = 'AIC')\n",
    "plt.title('Finding the AIC and BIC for Demographic Data')\n"
   ]
  },
  {
   "cell_type": "code",
   "execution_count": 78,
   "metadata": {},
   "outputs": [
    {
     "data": {
      "image/png": "[encoded data removed]",
      "text/plain": [
       "<matplotlib.figure.Figure at 0x1a13ec2cc0>"
      ]
     },
     "metadata": {},
     "output_type": "display_data"
    }
   ],
   "source": [
    "errors = []\n",
    "k_vals = np.arange(3, 20)\n",
    "for k in k_vals:\n",
    "    kmeans_model = KMeans(n_clusters = k, init = 'k-means++').fit(X_dem)\n",
    "    errors.append(sum(np.min(cdist(X_dem, kmeans_model.cluster_centers_, 'euclidean'), axis=1))/X_dem.shape[0])\n",
    "    \n",
    "plt.plot(k_vals, errors, 'bx-')\n",
    "plt.xlabel('Number of clusters')\n",
    "plt.ylabel('Errors')\n",
    "plt.title('Elbow Method for Finding Optimal k for demographic data')\n",
    "plt.show()"
   ]
  },
  {
   "cell_type": "code",
   "execution_count": 79,
   "metadata": {},
   "outputs": [
    {
     "data": {
      "image/png": "[encoded data removed]",
      "text/plain": [
       "<matplotlib.figure.Figure at 0x1a13ec2e10>"
      ]
     },
     "metadata": {},
     "output_type": "display_data"
    }
   ],
   "source": [
    "errors = []\n",
    "k_vals = np.arange(3, 10)\n",
    "for k in k_vals:\n",
    "    kmeans_model = KMeans(n_clusters = k, init = 'k-means++').fit(X_zillow)\n",
    "    errors.append(sum(np.min(cdist(X_zillow, kmeans_model.cluster_centers_, 'euclidean'), axis=1))/X_zillow.shape[0])\n",
    "    \n",
    "plt.plot(k_vals, errors, 'bx-')\n",
    "plt.xlabel('Number of clusters')\n",
    "plt.ylabel('Errors')\n",
    "plt.title('Elbow Method for Finding Optimal k for Zillow data')\n",
    "plt.show()"
   ]
  },
  {
   "cell_type": "code",
   "execution_count": 70,
   "metadata": {},
   "outputs": [],
   "source": [
    "# k_vals = np.arange(2, 3)\n",
    "# models = [GaussianMixture(k, random_state = 1234).fit(X_zillow) for k in k_vals]\n",
    "\n",
    "# plt.title('Find AIC and BIC for Zillow data')\n",
    "# plt.plot(k_vals, [m.bic(X) for m in models], label = 'BIC')\n",
    "# plt.plot(k_vals, [m.aic(X) for m in models], label = 'AIC')"
   ]
  },
  {
   "cell_type": "code",
   "execution_count": 51,
   "metadata": {
    "collapsed": true
   },
   "outputs": [],
   "source": [
    "clusterer_k = KMeans(n_clusters=7, init = 'k-means++', random_state=1234)\n",
    "cluster_labels_k = clusterer_k.fit_predict(X_dem)\n",
    "\n",
    "clusterer_GMM = GaussianMixture(11, random_state = 1234)\n",
    "cluster_labels_gmm = clusterer_GMM.fit(X_dem)"
   ]
  },
  {
   "cell_type": "code",
   "execution_count": null,
   "metadata": {},
   "outputs": [],
   "source": [
    "la_geog['cluster_k'] = cluster_labels_k\n",
    "p = la_geog.plot(column='cluster_k', linewidth=0.5, edgecolor='white')\n",
    "p.axis('off')\n",
    "p.plot()"
   ]
  },
  {
   "cell_type": "code",
   "execution_count": null,
   "metadata": {
    "collapsed": true
   },
   "outputs": [],
   "source": [
    "la_geog['cluster_gmm'] = cluster_labels_gmm\n",
    "p = la_geog.plot(column='cluster_gmm', linewidth=0.5, edgecolor='white')\n",
    "p.axis('off')\n",
    "p.plot()"
   ]
  },
  {
   "cell_type": "code",
   "execution_count": 64,
   "metadata": {},
   "outputs": [],
   "source": [
    "clusterer_k_zillow = KMeans(n_clusters=4, init = 'k-means++', random_state=1234)\n",
    "cluster_labels_k_zillow = clusterer_k_zillow.fit_predict(X_zillow)\n",
    "\n",
    "# clusterer_GMM = GaussianMixture(2, random_state = 1234)\n",
    "# cluster_labels_gmm = clusterer_GMM.fit(X_zillow)"
   ]
  },
  {
   "cell_type": "code",
   "execution_count": null,
   "metadata": {
    "collapsed": true
   },
   "outputs": [],
   "source": [
    "la_geog['cluster_k'] = cluster_labels_k_zillow\n",
    "p = la_geog.plot(column='cluster_k', linewidth=0.5, edgecolor='white')\n",
    "p.axis('off')\n",
    "p.plot()"
   ]
  },
  {
   "cell_type": "code",
   "execution_count": null,
   "metadata": {
    "collapsed": true
   },
   "outputs": [],
   "source": [
    "# la_geog['cluster_gmm'] = cluster_labels_gmm\n",
    "# p = la_geog.plot(column='cluster_gmm', linewidth=0.5, edgecolor='white')\n",
    "# p.axis('off')\n",
    "# p.plot()"
   ]
  },
  {
   "cell_type": "code",
   "execution_count": 65,
   "metadata": {},
   "outputs": [
    {
     "name": "stdout",
     "output_type": "stream",
     "text": [
      "[  403861.3015392   1071135.8939634    166398.12731788  2198224.6291602\n",
      "   262948.21880821  1421744.09704335   657189.38738667]\n",
      "[  215391.83330933   824875.59234617  1577040.20346672   406251.51522597]\n"
     ]
    }
   ],
   "source": [
    "print(np.mean(clusterer_k.cluster_centers_, axis=1))\n",
    "print(np.mean(clusterer_k_zillow.cluster_centers_, axis=1))"
   ]
  },
  {
   "cell_type": "code",
   "execution_count": null,
   "metadata": {
    "collapsed": true
   },
   "outputs": [],
   "source": []
  }
 ],
 "metadata": {
  "kernelspec": {
   "display_name": "Python 3",
   "language": "python",
   "name": "python3"
  },
  "language_info": {
   "codemirror_mode": {
    "name": "ipython",
    "version": 3
   },
   "file_extension": ".py",
   "mimetype": "text/x-python",
   "name": "python",
   "nbconvert_exporter": "python",
   "pygments_lexer": "ipython3",
   "version": "3.6.3"
  }
 },
 "nbformat": 4,
 "nbformat_minor": 2
}
